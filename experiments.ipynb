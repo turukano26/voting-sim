{
 "cells": [
  {
   "cell_type": "code",
   "execution_count": 2,
   "metadata": {},
   "outputs": [],
   "source": [
    "from scipy import signal\n",
    "import numpy as np\n",
    "import matplotlib.pyplot as plt\n",
    "import pandas as pd\n",
    "import itertools"
   ]
  },
  {
   "cell_type": "code",
   "execution_count": 47,
   "metadata": {},
   "outputs": [],
   "source": [
    "class Person():\n",
    "\n",
    "    def __init__(self, num_of_issues, opinions=None, weights=None):\n",
    "\n",
    "        self.p = pd.DataFrame()\n",
    "        self.total_issues = num_of_issues\n",
    "        self.p.index = range(num_of_issues)\n",
    "        self.p.index.name = 'Issues'\n",
    "\n",
    "        rng = np.random.default_rng()\n",
    "\n",
    "        if opinions is None:\n",
    "            self.p['Opinion'] = [rng.normal(0,1) for _ in range(num_of_issues)]\n",
    "        else: \n",
    "            self.p['Opinion'] = opinions\n",
    "\n",
    "        if weights is None:\n",
    "            self.p['Weight'] = [rng.normal(0,1)**2 for _ in range(num_of_issues)]\n",
    "        else:\n",
    "            self.p['Weight'] = weights\n",
    "\n",
    "\n",
    "        self.p['Rhetoric'] = np.zeros(self.total_issues)\n",
    "\n",
    "\n",
    "    def become_vocal(self, vocality=0.25, num_of_issues=None):\n",
    "\n",
    "        if num_of_issues is None:\n",
    "            num_of_issues = int(self.total_issues*vocality)\n",
    "        else:\n",
    "            num_of_issues = min(num_of_issues, self.total_issues)\n",
    "\n",
    "        sorted_issues = np.argsort(self.p['Weight'].to_numpy())[::-1][:num_of_issues]\n",
    "\n",
    "        for issue in sorted_issues:\n",
    "            issue = int(issue)\n",
    "            self.p.loc[issue, 'Rhetoric'] = self.p.loc[issue, 'Weight']\n",
    "\n",
    "    def return_frame(self):\n",
    "        return self.p\n",
    "    \n",
    "    def evaluate_canidates(self, canidates):\n",
    "\n",
    "        distances_per_canidate = []\n",
    "        for canidate in canidates:\n",
    "            agreement_per_issue = []\n",
    "            for issue in self.p.index:\n",
    "                opinion_distance = np.abs(self.p.loc[issue, 'Opinion'] - canidate.p.loc[issue, 'Opinion'])\n",
    "                conviction_distance = np.abs(self.p.loc[issue, 'Weight'] - canidate.p.loc[issue, 'Weight'])\n",
    "                opinion_power = 1 + (1 / (1 + np.abs(self.p.loc[issue, 'Opinion'] - canidate.p.loc[issue, 'Opinion'])))**10\n",
    "                conviction_power = 1 + np.sqrt(self.p.loc[issue, 'Weight'] * canidate.p.loc[issue, 'Weight'])\n",
    "\n",
    "                agreement = -np.log((opinion_distance**conviction_power)*(opinion_power**conviction_distance))\n",
    "\n",
    "                agreement_per_issue.append(agreement)\n",
    "\n",
    "            distances_per_canidate.append(sum(agreement_per_issue))\n",
    "\n",
    "        return distances_per_canidate\n",
    "    \n",
    "\n",
    "\n",
    "\n",
    "    def __str__(self) -> str:\n",
    "        return str(self.p)\n",
    "    \n",
    "    \n",
    "    def influence_others(self, people, influence_matrix, influence_function):\n",
    "        '''\n",
    "        influence_matrix is a n x m matrix\n",
    "        where n is number of people\n",
    "        and m is number of issues\n",
    "        \n",
    "        '''\n",
    "        for i, person in enumerate(people):\n",
    "            influence_function(self, person, influence_matrix[i])\n",
    "        pass\n"
   ]
  },
  {
   "cell_type": "code",
   "execution_count": 48,
   "metadata": {},
   "outputs": [
    {
     "data": {
      "image/png": "[encoded data removed]",
      "text/plain": [
       "<Figure size 640x480 with 1 Axes>"
      ]
     },
     "metadata": {},
     "output_type": "display_data"
    }
   ],
   "source": [
    "people = []\n",
    "canidates = []\n",
    "\n",
    "for i in range(20):\n",
    "    p = Person(2)\n",
    "    people.append(p)\n",
    "\n",
    "    if i%10 == 0:\n",
    "        c = Person(2)\n",
    "        canidates.append(c)\n",
    "        \n",
    "    \n",
    "fig, ax = plt.subplots()\n",
    "\n",
    "for person in people:\n",
    "    ax.scatter([person.p.loc[0, 'Opinion']],[person.p.loc[1, 'Opinion']])\n",
    "    nearest = person.evaluate_canidates(canidates)\n",
    "    ax.plot([person.p.loc[0, 'Opinion']])\n",
    "\n",
    "plt.show()\n",
    "    \n"
   ]
  },
  {
   "cell_type": "code",
   "execution_count": 33,
   "metadata": {},
   "outputs": [
    {
     "name": "stdout",
     "output_type": "stream",
     "text": [
      "1\tAgree: No\tVoter Conviction: 5\tCanidate Conviction: 5\n",
      "[np.float64(-3.8511233170343684)]\n",
      "\n",
      "\n",
      "2\tAgree: No\tVoter Conviction: 5\tCanidate Conviction: 0.1\n",
      "[np.float64(-1.095829590774854)]\n",
      "\n",
      "\n",
      "3\tAgree: Yes\tVoter Conviction: 5\tCanidate Conviction: 5\n",
      "[np.float64(13.815510557964275)]\n",
      "\n",
      "\n",
      "4\tAgree: Yes\tVoter Conviction: 5\tCanidate Conviction: 0.1\n",
      "[np.float64(2.3329062121603696)]\n",
      "\n",
      "\n",
      "5\tAgree: No\tVoter Conviction: 0.1\tCanidate Conviction: 5\n",
      "[np.float64(-1.095829590774854)]\n",
      "\n",
      "\n",
      "6\tAgree: No\tVoter Conviction: 0.1\tCanidate Conviction: 0.1\n",
      "[np.float64(-0.7060392747896344)]\n",
      "\n",
      "\n",
      "7\tAgree: Yes\tVoter Conviction: 0.1\tCanidate Conviction: 5\n",
      "[np.float64(2.3329062121603696)]\n",
      "\n",
      "\n",
      "8\tAgree: Yes\tVoter Conviction: 0.1\tCanidate Conviction: 0.1\n",
      "[np.float64(2.532843602293451)]\n",
      "\n",
      "\n"
     ]
    }
   ],
   "source": [
    "for i, (voter_op, voter_weight, canidate_op, canidate_weight) in enumerate(itertools.product([-1], [5, 0.1], [0.9, -0.9], [5, 0.1])):\n",
    "\n",
    "    print(f\"{i+1}\\tAgree: {'Yes' if voter_op-canidate_op > -1 else 'No'}\\tVoter Conviction: {voter_weight}\\tCanidate Conviction: {canidate_weight}\")\n",
    "\n",
    "    person = Person(1, opinions=[voter_op], weights=[voter_weight])\n",
    "    #print(person)\n",
    "    canidate = Person(1, opinions=[canidate_op], weights=[canidate_weight])\n",
    "    #print(person)\n",
    "    print(person.evaluate_canidates([canidate]))\n",
    "\n",
    "    print('\\n')\n",
    "    \n",
    "\n"
   ]
  },
  {
   "cell_type": "code",
   "execution_count": 25,
   "metadata": {},
   "outputs": [
    {
     "data": {
      "text/plain": [
       "np.float64(1.1019400787607843)"
      ]
     },
     "execution_count": 25,
     "metadata": {},
     "output_type": "execute_result"
    }
   ],
   "source": [
    "np.log(3.01)"
   ]
  },
  {
   "cell_type": "code",
   "execution_count": 104,
   "metadata": {},
   "outputs": [
    {
     "data": {
      "text/plain": [
       "0.0316227766016838"
      ]
     },
     "execution_count": 104,
     "metadata": {},
     "output_type": "execute_result"
    }
   ],
   "source": [
    "0.1**1.5"
   ]
  },
  {
   "cell_type": "code",
   "execution_count": null,
   "metadata": {},
   "outputs": [],
   "source": [
    "issues = []*10\n",
    "for i in range(len(issues)):"
   ]
  }
 ],
 "metadata": {
  "kernelspec": {
   "display_name": ".venv",
   "language": "python",
   "name": "python3"
  },
  "language_info": {
   "codemirror_mode": {
    "name": "ipython",
    "version": 3
   },
   "file_extension": ".py",
   "mimetype": "text/x-python",
   "name": "python",
   "nbconvert_exporter": "python",
   "pygments_lexer": "ipython3",
   "version": "3.11.6"
  }
 },
 "nbformat": 4,
 "nbformat_minor": 2
}
